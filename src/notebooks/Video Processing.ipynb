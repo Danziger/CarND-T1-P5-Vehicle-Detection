{
 "cells": [
  {
   "cell_type": "markdown",
   "metadata": {},
   "source": [
    "# 0. DEPENDENCIES\n",
    "\n",
    "Fix for Jupyter Notebook imports:"
   ]
  },
  {
   "cell_type": "code",
   "execution_count": 1,
   "metadata": {},
   "outputs": [
    {
     "name": "stdout",
     "output_type": "stream",
     "text": [
      "S:\\Dropbox\\000 - CARND\\CarND-T1-P5-Vehicle-Detection\\src\\notebooks\n",
      "\n",
      "C:\\Users\\gmzco\\AppData\\Local\\conda\\conda\\envs\\carnd-term1\\python35.zip\n",
      "C:\\Users\\gmzco\\AppData\\Local\\conda\\conda\\envs\\carnd-term1\\DLLs\n",
      "C:\\Users\\gmzco\\AppData\\Local\\conda\\conda\\envs\\carnd-term1\\lib\n",
      "C:\\Users\\gmzco\\AppData\\Local\\conda\\conda\\envs\\carnd-term1\n",
      "C:\\Users\\gmzco\\AppData\\Local\\conda\\conda\\envs\\carnd-term1\\lib\\site-packages\n",
      "C:\\Users\\gmzco\\AppData\\Local\\conda\\conda\\envs\\carnd-term1\\lib\\site-packages\\cycler-0.10.0-py3.5.egg\n",
      "C:\\Users\\gmzco\\AppData\\Local\\conda\\conda\\envs\\carnd-term1\\lib\\site-packages\\IPython\\extensions\n",
      "C:\\Users\\gmzco\\.ipython\n",
      "S:\\Dropbox\\000 - CARND\\CarND-T1-P5-Vehicle-Detection\n"
     ]
    }
   ],
   "source": [
    "\n",
    "import os\n",
    "import sys\n",
    "\n",
    "print(os.getcwd())\n",
    "\n",
    "sys.path.append(\"S:\\Dropbox\\\\000 - CARND\\CarND-T1-P5-Vehicle-Detection\")\n",
    "\n",
    "for path in sys.path: print(path)\n",
    "    "
   ]
  },
  {
   "cell_type": "markdown",
   "metadata": {},
   "source": [
    "Remove the additional entry if needed:"
   ]
  },
  {
   "cell_type": "code",
   "execution_count": 2,
   "metadata": {},
   "outputs": [
    {
     "name": "stdout",
     "output_type": "stream",
     "text": [
      "\n",
      "C:\\Users\\gmzco\\AppData\\Local\\conda\\conda\\envs\\carnd-term1\\python35.zip\n",
      "C:\\Users\\gmzco\\AppData\\Local\\conda\\conda\\envs\\carnd-term1\\DLLs\n",
      "C:\\Users\\gmzco\\AppData\\Local\\conda\\conda\\envs\\carnd-term1\\lib\n",
      "C:\\Users\\gmzco\\AppData\\Local\\conda\\conda\\envs\\carnd-term1\n",
      "C:\\Users\\gmzco\\AppData\\Local\\conda\\conda\\envs\\carnd-term1\\lib\\site-packages\n",
      "C:\\Users\\gmzco\\AppData\\Local\\conda\\conda\\envs\\carnd-term1\\lib\\site-packages\\cycler-0.10.0-py3.5.egg\n",
      "C:\\Users\\gmzco\\AppData\\Local\\conda\\conda\\envs\\carnd-term1\\lib\\site-packages\\IPython\\extensions\n",
      "C:\\Users\\gmzco\\.ipython\n",
      "S:\\Dropbox\\000 - CARND\\CarND-T1-P5-Vehicle-Detection\n"
     ]
    }
   ],
   "source": [
    "\n",
    "# sys.path = sys.path[:-1]\n",
    "\n",
    "for path in sys.path: print(path)\n",
    "    "
   ]
  },
  {
   "cell_type": "markdown",
   "metadata": {},
   "source": [
    "Load all dependencies:"
   ]
  },
  {
   "cell_type": "code",
   "execution_count": 3,
   "metadata": {},
   "outputs": [
    {
     "data": {
      "text/plain": [
       "<module 'src.helpers.overlays' from 'S:\\\\Dropbox\\\\000 - CARND\\\\CarND-T1-P5-Vehicle-Detection\\\\src\\\\helpers\\\\overlays.py'>"
      ]
     },
     "execution_count": 3,
     "metadata": {},
     "output_type": "execute_result"
    }
   ],
   "source": [
    "\n",
    "import cv2\n",
    "import glob\n",
    "import numpy as np\n",
    "\n",
    "from importlib import reload\n",
    "from sklearn.externals import joblib\n",
    "from moviepy.editor import VideoFileClip\n",
    "\n",
    "import src.helpers.constants as C\n",
    "import src.helpers.finder as FIND\n",
    "import src.helpers.overlays as OV\n",
    "\n",
    "# RELOAD:\n",
    "\n",
    "reload(C)\n",
    "reload(FIND)\n",
    "reload(OV)\n"
   ]
  },
  {
   "cell_type": "markdown",
   "metadata": {},
   "source": [
    "# 1. LOAD THE CLASSIFIER AND GET THE WINDOWS"
   ]
  },
  {
   "cell_type": "code",
   "execution_count": 4,
   "metadata": {},
   "outputs": [
    {
     "name": "stdout",
     "output_type": "stream",
     "text": [
      "TOTAL WINDOWS = 378\n"
     ]
    }
   ],
   "source": [
    "\n",
    "clf = joblib.load(\"../../output/models/classifier_augmented_nocars_2.pkl\")\n",
    "# clf = joblib.load(\"../../output/models/classifier_augmented_hls.pkl\")\n",
    "# clf = joblib.load(\"../../output/models/classifier.pkl\")\n",
    "# clf = joblib.load(\"../../output/models/classifier_svc.pkl\")\n",
    "\n",
    "HEIGHT = 720\n",
    "WIDTH = 1280\n",
    "\n",
    "WINDOWS = C.WINDOWS(WIDTH)\n",
    "\n",
    "print(\"TOTAL WINDOWS = {}\".format(len(C.WINDOWS(WIDTH))))\n"
   ]
  },
  {
   "cell_type": "markdown",
   "metadata": {},
   "source": [
    "# 2. CREATE THE VIDEO PROCESSING PIPELINE\n",
    "\n",
    "First, let's define a function that will process each individual frame:"
   ]
  },
  {
   "cell_type": "code",
   "execution_count": 5,
   "metadata": {},
   "outputs": [],
   "source": [
    "from collections import deque\n",
    "\n",
    "class VehicleTracker():\n",
    "    \n",
    "    def __init__(self, size=8):\n",
    "        self.size = size\n",
    "        self.reset()\n",
    "        \n",
    "    def reset(self):\n",
    "        self.items = deque(maxlen=self.size)\n",
    "        \n",
    "    def push(self, detections):\n",
    "        self.items.append(detections)\n",
    "\n",
    "        \n",
    "vehicle_tracker = VehicleTracker()\n",
    "\n",
    "            \n",
    "def process_frame(img): # RGB\n",
    "    img_hls = cv2.cvtColor(img, cv2.COLOR_RGB2HLS)\n",
    "    \n",
    "    detections = FIND.find_cars(img_hls, WINDOWS, clf)\n",
    "    \n",
    "    if len(detections) > 0:\n",
    "        vehicle_tracker.push(detections)\n",
    "    \n",
    "    all_detections = list(vehicle_tracker.items)\n",
    "    all_detections = np.concatenate(np.array(all_detections)) if len(all_detections) > 0 else []\n",
    "    \n",
    "    heatmap = OV.heatmap_boxes(all_detections, HEIGHT, WIDTH)\n",
    "        \n",
    "    heatmap = OV.heatmap_threshold(heatmap, 2)\n",
    "\n",
    "    #heatmap = OV.heatmap_boxes(detections, HEIGHT, WIDTH)\n",
    "    #heatmap = OV.heatmap_threshold(heatmap, 2)\n",
    "    \n",
    "    boxes = FIND.find_boxes(heatmap)\n",
    "    \n",
    "    return OV.draw_boxes(img, boxes)\n",
    "            \n",
    "    \n",
    "index = 1\n",
    "    \n",
    "def extract_false_positives(img): # RGB\n",
    "    img_hls = cv2.cvtColor(img, cv2.COLOR_RGB2HLS)\n",
    "    \n",
    "    detections = FIND.find_cars(img_hls, WINDOWS, clf)\n",
    "    \n",
    "    global index\n",
    "    \n",
    "    for box in detections:\n",
    "        start, end = box\n",
    "        x0, y0 = start\n",
    "        x1, y1 = end\n",
    "        \n",
    "        if x1 < 0.6 * WIDTH:\n",
    "            tile = cv2.resize(img[y0:y1, x0:x1], (64, 64))\n",
    "            tile = cv2.cvtColor(tile, cv2.COLOR_RGB2BGR)\n",
    "            cv2.imwrite(\"../../input/images/dataset/non-vehicles/falses-full/falsef{}.png\".format(index), tile)\n",
    "    \n",
    "            index += 1\n",
    "    \n",
    "    return img\n"
   ]
  },
  {
   "cell_type": "markdown",
   "metadata": {},
   "source": [
    "Next, let's define a function that will take each video and process all its frames with the function above:"
   ]
  },
  {
   "cell_type": "code",
   "execution_count": 6,
   "metadata": {},
   "outputs": [],
   "source": [
    "\n",
    "def process_video(videosDir, videoName, outputDir):\n",
    "    print(\"--------\\n\\nProcessing %s:\" % videoName)\n",
    "    \n",
    "    inputClip = VideoFileClip(videosDir + videoName)\n",
    "    outputClip = inputClip.fl_image(process_frame)\n",
    "    %time outputClip.write_videofile(outputDir + \"NEW \" + videoName, audio=False)\n",
    "    \n",
    "    return outputClip\n",
    "    "
   ]
  },
  {
   "cell_type": "markdown",
   "metadata": {},
   "source": [
    "# 3. PROCESS THE VIDEOS\n",
    "\n",
    "Let's see how many videos we have and devide which ones we want to process now:"
   ]
  },
  {
   "cell_type": "code",
   "execution_count": null,
   "metadata": {},
   "outputs": [
    {
     "name": "stdout",
     "output_type": "stream",
     "text": [
      "Available videos:\n",
      "\n",
      "001 - Test Video (Sample).mp4\n",
      "002 - Test Video (0-3s).mp4\n",
      "003 - Test Video (25-30s).mp4\n"
     ]
    }
   ],
   "source": [
    "\n",
    "outputDir = \"../../output/videos/\"\n",
    "videosDir = \"../../input/videos/\"\n",
    "videosNames = os.listdir(videosDir)\n",
    "\n",
    "videosNames = [\"001 - Test Video (Sample).mp4\", \"002 - Test Video (0-3s).mp4\", \"003 - Test Video (25-30s).mp4\"]\n",
    "# videosNames = [\"002 - Test Video (0-3s).mp4\", \"003 - Test Video (25-30s).mp4\"]\n",
    "# videosNames = [\"004 - Project Video (Full).mp4\"]\n",
    "\n",
    "print(\"Available videos:\\n\")\n",
    "\n",
    "for videoName in videosNames: print(videoName)\n",
    "    "
   ]
  },
  {
   "cell_type": "code",
   "execution_count": null,
   "metadata": {},
   "outputs": [
    {
     "name": "stdout",
     "output_type": "stream",
     "text": [
      "--------\n",
      "\n",
      "Processing 001 - Test Video (Sample).mp4:\n",
      "[MoviePy] >>>> Building video ../../output/videos/NEW 001 - Test Video (Sample).mp4\n",
      "[MoviePy] Writing video ../../output/videos/NEW 001 - Test Video (Sample).mp4\n"
     ]
    },
    {
     "name": "stderr",
     "output_type": "stream",
     "text": [
      " 97%|███████████████████████████████████████████████████████████████████████████████▉  | 38/39 [01:18<00:01,  1.88s/it]\n"
     ]
    },
    {
     "name": "stdout",
     "output_type": "stream",
     "text": [
      "[MoviePy] Done.\n",
      "[MoviePy] >>>> Video ready: ../../output/videos/NEW 001 - Test Video (Sample).mp4 \n",
      "\n",
      "Wall time: 1min 19s\n",
      "--------\n",
      "\n",
      "Processing 002 - Test Video (0-3s).mp4:\n",
      "[MoviePy] >>>> Building video ../../output/videos/NEW 002 - Test Video (0-3s).mp4\n",
      "[MoviePy] Writing video ../../output/videos/NEW 002 - Test Video (0-3s).mp4\n"
     ]
    },
    {
     "name": "stderr",
     "output_type": "stream",
     "text": [
      " 82%|███████████████████████████████████████████████████████████████████               | 63/77 [01:57<00:26,  1.86s/it]"
     ]
    }
   ],
   "source": [
    "\n",
    "for videoName in videosNames:\n",
    "    vehicle_tracker.reset()\n",
    "    \n",
    "    output = process_video(videosDir, videoName, outputDir)\n",
    "    "
   ]
  },
  {
   "cell_type": "code",
   "execution_count": null,
   "metadata": {},
   "outputs": [],
   "source": []
  }
 ],
 "metadata": {
  "kernelspec": {
   "display_name": "Python 3",
   "language": "python",
   "name": "python3"
  },
  "language_info": {
   "codemirror_mode": {
    "name": "ipython",
    "version": 3
   },
   "file_extension": ".py",
   "mimetype": "text/x-python",
   "name": "python",
   "nbconvert_exporter": "python",
   "pygments_lexer": "ipython3",
   "version": "3.5.2"
  },
  "widgets": {
   "state": {},
   "version": "1.1.2"
  }
 },
 "nbformat": 4,
 "nbformat_minor": 2
}
